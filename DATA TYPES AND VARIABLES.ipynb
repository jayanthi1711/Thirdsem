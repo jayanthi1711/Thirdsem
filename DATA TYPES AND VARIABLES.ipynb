{
 "cells": [
  {
   "cell_type": "code",
   "execution_count": 72,
   "id": "abed7407",
   "metadata": {},
   "outputs": [],
   "source": [
    "l1=[\"pds\",10+4]"
   ]
  },
  {
   "cell_type": "code",
   "execution_count": 73,
   "id": "ed778fff",
   "metadata": {},
   "outputs": [
    {
     "data": {
      "text/plain": [
       "['pds', 14]"
      ]
     },
     "execution_count": 73,
     "metadata": {},
     "output_type": "execute_result"
    }
   ],
   "source": [
    "l1"
   ]
  },
  {
   "cell_type": "code",
   "execution_count": 68,
   "id": "c4c70f2d",
   "metadata": {},
   "outputs": [],
   "source": [
    "l1.append(11)"
   ]
  },
  {
   "cell_type": "code",
   "execution_count": null,
   "id": "a0d50aa4",
   "metadata": {},
   "outputs": [],
   "source": []
  },
  {
   "cell_type": "markdown",
   "id": "0656fa7c",
   "metadata": {},
   "source": [
    "# "
   ]
  },
  {
   "cell_type": "code",
   "execution_count": 69,
   "id": "c280d638",
   "metadata": {},
   "outputs": [
    {
     "data": {
      "text/plain": [
       "['pds', (10+4j), 'ss', 12, 11]"
      ]
     },
     "execution_count": 69,
     "metadata": {},
     "output_type": "execute_result"
    }
   ],
   "source": [
    "l1"
   ]
  },
  {
   "cell_type": "code",
   "execution_count": 65,
   "id": "e087df83",
   "metadata": {},
   "outputs": [],
   "source": [
    "tup2=(\"hh\",44,45+1)"
   ]
  },
  {
   "cell_type": "code",
   "execution_count": 66,
   "id": "9483b022",
   "metadata": {},
   "outputs": [
    {
     "data": {
      "text/plain": [
       "('hh', 44, 46)"
      ]
     },
     "execution_count": 66,
     "metadata": {},
     "output_type": "execute_result"
    }
   ],
   "source": [
    "tup2"
   ]
  },
  {
   "cell_type": "code",
   "execution_count": 67,
   "id": "759d7388",
   "metadata": {},
   "outputs": [
    {
     "ename": "AttributeError",
     "evalue": "'tuple' object has no attribute 'append'",
     "output_type": "error",
     "traceback": [
      "\u001b[1;31m---------------------------------------------------------------------------\u001b[0m",
      "\u001b[1;31mAttributeError\u001b[0m                            Traceback (most recent call last)",
      "Cell \u001b[1;32mIn[67], line 1\u001b[0m\n\u001b[1;32m----> 1\u001b[0m \u001b[43mtup2\u001b[49m\u001b[38;5;241;43m.\u001b[39;49m\u001b[43mappend\u001b[49m(\u001b[38;5;124m\"\u001b[39m\u001b[38;5;124maa\u001b[39m\u001b[38;5;124m\"\u001b[39m)\n",
      "\u001b[1;31mAttributeError\u001b[0m: 'tuple' object has no attribute 'append'"
     ]
    }
   ],
   "source": [
    "tup2.append(\"aa\")"
   ]
  },
  {
   "cell_type": "code",
   "execution_count": 53,
   "id": "ae4847e6",
   "metadata": {},
   "outputs": [],
   "source": [
    "s={\"jaya\",4,5+8}"
   ]
  },
  {
   "cell_type": "code",
   "execution_count": 54,
   "id": "0b874a46",
   "metadata": {},
   "outputs": [
    {
     "data": {
      "text/plain": [
       "{13, 4, 'jaya'}"
      ]
     },
     "execution_count": 54,
     "metadata": {},
     "output_type": "execute_result"
    }
   ],
   "source": [
    "s"
   ]
  },
  {
   "cell_type": "markdown",
   "id": "03a26acf",
   "metadata": {},
   "source": [
    "# DICT"
   ]
  },
  {
   "cell_type": "code",
   "execution_count": 64,
   "id": "dad7536a",
   "metadata": {},
   "outputs": [],
   "source": [
    " COLOUR={'BLUE':1,'YELLOW':2,'GREEN':3,'BLACK':4}"
   ]
  },
  {
   "cell_type": "code",
   "execution_count": 65,
   "id": "56303f4b",
   "metadata": {},
   "outputs": [
    {
     "data": {
      "text/plain": [
       "dict"
      ]
     },
     "execution_count": 65,
     "metadata": {},
     "output_type": "execute_result"
    }
   ],
   "source": [
    "type(COLOUR)"
   ]
  },
  {
   "cell_type": "code",
   "execution_count": 66,
   "id": "2fc8134f",
   "metadata": {},
   "outputs": [
    {
     "data": {
      "text/plain": [
       "dict_values([1, 2, 3, 4])"
      ]
     },
     "execution_count": 66,
     "metadata": {},
     "output_type": "execute_result"
    }
   ],
   "source": [
    "COLOUR.values()"
   ]
  },
  {
   "cell_type": "code",
   "execution_count": 67,
   "id": "c6e5df1f",
   "metadata": {},
   "outputs": [
    {
     "data": {
      "text/plain": [
       "dict_keys(['BLUE', 'YELLOW', 'GREEN', 'BLACK'])"
      ]
     },
     "execution_count": 67,
     "metadata": {},
     "output_type": "execute_result"
    }
   ],
   "source": [
    "COLOUR.keys()"
   ]
  },
  {
   "cell_type": "code",
   "execution_count": 68,
   "id": "7026e8b3",
   "metadata": {},
   "outputs": [
    {
     "data": {
      "text/plain": [
       "1"
      ]
     },
     "execution_count": 68,
     "metadata": {},
     "output_type": "execute_result"
    }
   ],
   "source": [
    "COLOUR['BLUE']"
   ]
  },
  {
   "cell_type": "code",
   "execution_count": 69,
   "id": "cb422f23",
   "metadata": {},
   "outputs": [],
   "source": [
    "COLOUR['WHITE']=5"
   ]
  },
  {
   "cell_type": "code",
   "execution_count": 70,
   "id": "d5501339",
   "metadata": {},
   "outputs": [
    {
     "data": {
      "text/plain": [
       "{'BLUE': 1, 'YELLOW': 2, 'GREEN': 3, 'BLACK': 4, 'WHITE': 5}"
      ]
     },
     "execution_count": 70,
     "metadata": {},
     "output_type": "execute_result"
    }
   ],
   "source": [
    "COLOUR"
   ]
  },
  {
   "cell_type": "code",
   "execution_count": 71,
   "id": "29ff976f",
   "metadata": {},
   "outputs": [],
   "source": [
    "DETAIL={'NAME':'JAYANTHI','BRANCH':'B.TECH','PROGRAME':'CSE','AGE':'18'}"
   ]
  },
  {
   "cell_type": "code",
   "execution_count": 72,
   "id": "dea440ef",
   "metadata": {},
   "outputs": [
    {
     "data": {
      "text/plain": [
       "{'NAME': 'JAYANTHI', 'BRANCH': 'B.TECH', 'PROGRAME': 'CSE', 'AGE': '18'}"
      ]
     },
     "execution_count": 72,
     "metadata": {},
     "output_type": "execute_result"
    }
   ],
   "source": [
    "DETAIL"
   ]
  },
  {
   "cell_type": "code",
   "execution_count": 73,
   "id": "3ec693e1",
   "metadata": {},
   "outputs": [
    {
     "data": {
      "text/plain": [
       "dict"
      ]
     },
     "execution_count": 73,
     "metadata": {},
     "output_type": "execute_result"
    }
   ],
   "source": [
    "type(DETAIL)"
   ]
  },
  {
   "cell_type": "code",
   "execution_count": 74,
   "id": "de462712",
   "metadata": {},
   "outputs": [
    {
     "data": {
      "text/plain": [
       "'JAYANTHI'"
      ]
     },
     "execution_count": 74,
     "metadata": {},
     "output_type": "execute_result"
    }
   ],
   "source": [
    "DETAIL['NAME']"
   ]
  },
  {
   "cell_type": "code",
   "execution_count": 75,
   "id": "fc6b87d0",
   "metadata": {},
   "outputs": [
    {
     "data": {
      "text/plain": [
       "4"
      ]
     },
     "execution_count": 75,
     "metadata": {},
     "output_type": "execute_result"
    }
   ],
   "source": [
    "len(DETAIL)"
   ]
  },
  {
   "cell_type": "code",
   "execution_count": 76,
   "id": "79f94ac8",
   "metadata": {},
   "outputs": [
    {
     "data": {
      "text/plain": [
       "'18'"
      ]
     },
     "execution_count": 76,
     "metadata": {},
     "output_type": "execute_result"
    }
   ],
   "source": [
    "DETAIL.pop('AGE')"
   ]
  },
  {
   "cell_type": "code",
   "execution_count": 77,
   "id": "5a522eec",
   "metadata": {},
   "outputs": [
    {
     "data": {
      "text/plain": [
       "{'NAME': 'JAYANTHI', 'BRANCH': 'B.TECH', 'PROGRAME': 'CSE'}"
      ]
     },
     "execution_count": 77,
     "metadata": {},
     "output_type": "execute_result"
    }
   ],
   "source": [
    "DETAIL"
   ]
  },
  {
   "cell_type": "markdown",
   "id": "4944626f",
   "metadata": {},
   "source": [
    "# SET"
   ]
  },
  {
   "cell_type": "code",
   "execution_count": 78,
   "id": "18dafd46",
   "metadata": {},
   "outputs": [],
   "source": [
    "DETAIL={'NAME:JAYANTHI','BRANCH:B.TECH','PROGRAM:CSE'}"
   ]
  },
  {
   "cell_type": "code",
   "execution_count": 79,
   "id": "09b2786d",
   "metadata": {},
   "outputs": [
    {
     "data": {
      "text/plain": [
       "{'BRANCH:B.TECH', 'NAME:JAYANTHI', 'PROGRAM:CSE'}"
      ]
     },
     "execution_count": 79,
     "metadata": {},
     "output_type": "execute_result"
    }
   ],
   "source": [
    "DETAIL"
   ]
  },
  {
   "cell_type": "code",
   "execution_count": 80,
   "id": "6cdaa313",
   "metadata": {},
   "outputs": [
    {
     "data": {
      "text/plain": [
       "set"
      ]
     },
     "execution_count": 80,
     "metadata": {},
     "output_type": "execute_result"
    }
   ],
   "source": [
    "type(DETAIL)"
   ]
  },
  {
   "cell_type": "code",
   "execution_count": 81,
   "id": "89398aea",
   "metadata": {},
   "outputs": [],
   "source": [
    "DETAIL.add('1711')"
   ]
  },
  {
   "cell_type": "code",
   "execution_count": 82,
   "id": "21f4ef69",
   "metadata": {},
   "outputs": [
    {
     "data": {
      "text/plain": [
       "{'1711', 'BRANCH:B.TECH', 'NAME:JAYANTHI', 'PROGRAM:CSE'}"
      ]
     },
     "execution_count": 82,
     "metadata": {},
     "output_type": "execute_result"
    }
   ],
   "source": [
    "DETAIL"
   ]
  },
  {
   "cell_type": "code",
   "execution_count": 83,
   "id": "e6d5b86c",
   "metadata": {},
   "outputs": [],
   "source": [
    "DETAIL.update({'2703','3027'})"
   ]
  },
  {
   "cell_type": "code",
   "execution_count": 84,
   "id": "95b6ea6d",
   "metadata": {},
   "outputs": [
    {
     "data": {
      "text/plain": [
       "{'1711', '2703', '3027', 'BRANCH:B.TECH', 'NAME:JAYANTHI', 'PROGRAM:CSE'}"
      ]
     },
     "execution_count": 84,
     "metadata": {},
     "output_type": "execute_result"
    }
   ],
   "source": [
    "DETAIL"
   ]
  },
  {
   "cell_type": "markdown",
   "id": "dc10ec37",
   "metadata": {},
   "source": [
    "# FROZEN SET"
   ]
  },
  {
   "cell_type": "code",
   "execution_count": 85,
   "id": "13237dfc",
   "metadata": {},
   "outputs": [],
   "source": [
    "DETAIL2=frozenset({'NAME:JAYANTHI','BRANCH:B.TECH','PROGRAM:CSE'})"
   ]
  },
  {
   "cell_type": "code",
   "execution_count": 86,
   "id": "e1f847e2",
   "metadata": {},
   "outputs": [
    {
     "data": {
      "text/plain": [
       "frozenset"
      ]
     },
     "execution_count": 86,
     "metadata": {},
     "output_type": "execute_result"
    }
   ],
   "source": [
    "type(DETAIL2)"
   ]
  },
  {
   "cell_type": "code",
   "execution_count": 87,
   "id": "a056fb1c",
   "metadata": {},
   "outputs": [
    {
     "data": {
      "text/plain": [
       "frozenset({'BRANCH:B.TECH', 'NAME:JAYANTHI', 'PROGRAM:CSE'})"
      ]
     },
     "execution_count": 87,
     "metadata": {},
     "output_type": "execute_result"
    }
   ],
   "source": [
    "DETAIL2"
   ]
  },
  {
   "cell_type": "markdown",
   "id": "aa1e23b0",
   "metadata": {},
   "source": [
    "# BOOLEAN"
   ]
  },
  {
   "cell_type": "code",
   "execution_count": 88,
   "id": "b4cb51e2",
   "metadata": {},
   "outputs": [
    {
     "data": {
      "text/plain": [
       "True"
      ]
     },
     "execution_count": 88,
     "metadata": {},
     "output_type": "execute_result"
    }
   ],
   "source": [
    "a=10\n",
    "b=5\n",
    "a>b"
   ]
  },
  {
   "cell_type": "code",
   "execution_count": 89,
   "id": "c33f873f",
   "metadata": {},
   "outputs": [
    {
     "data": {
      "text/plain": [
       "False"
      ]
     },
     "execution_count": 89,
     "metadata": {},
     "output_type": "execute_result"
    }
   ],
   "source": [
    "a=30\n",
    "b=40\n",
    "a>b"
   ]
  },
  {
   "cell_type": "code",
   "execution_count": null,
   "id": "16353724",
   "metadata": {},
   "outputs": [],
   "source": []
  }
 ],
 "metadata": {
  "kernelspec": {
   "display_name": "Python 3 (ipykernel)",
   "language": "python",
   "name": "python3"
  },
  "language_info": {
   "codemirror_mode": {
    "name": "ipython",
    "version": 3
   },
   "file_extension": ".py",
   "mimetype": "text/x-python",
   "name": "python",
   "nbconvert_exporter": "python",
   "pygments_lexer": "ipython3",
   "version": "3.9.17"
  }
 },
 "nbformat": 4,
 "nbformat_minor": 5
}
