{
 "cells": [
  {
   "cell_type": "markdown",
   "id": "22b31c12",
   "metadata": {},
   "source": [
    "# LOOPS\n"
   ]
  },
  {
   "cell_type": "code",
   "execution_count": 1,
   "id": "027ca909",
   "metadata": {},
   "outputs": [],
   "source": [
    "# for <variable> in <sequence>:\n",
    "    #<statement>"
   ]
  },
  {
   "cell_type": "code",
   "execution_count": 2,
   "id": "11794411",
   "metadata": {},
   "outputs": [],
   "source": [
    "lis=[1,2,3,4,5]"
   ]
  },
  {
   "cell_type": "code",
   "execution_count": 3,
   "id": "69554aae",
   "metadata": {},
   "outputs": [
    {
     "name": "stdout",
     "output_type": "stream",
     "text": [
      "jaya\n",
      "jaya\n",
      "jaya\n",
      "jaya\n",
      "jaya\n"
     ]
    }
   ],
   "source": [
    "for step in lis:\n",
    "    print(\"jaya\")"
   ]
  },
  {
   "cell_type": "code",
   "execution_count": 5,
   "id": "5d36f267",
   "metadata": {},
   "outputs": [
    {
     "name": "stdout",
     "output_type": "stream",
     "text": [
      "enter your name:12\n",
      "enter your name:12\n",
      "enter your name:13\n",
      "enter your name:623\n",
      "enter your name:66\n"
     ]
    }
   ],
   "source": [
    "for step in lis:\n",
    "    input (\"enter your name:\")"
   ]
  },
  {
   "cell_type": "code",
   "execution_count": null,
   "id": "33a82f94",
   "metadata": {},
   "outputs": [],
   "source": [
    "for step in lis:\n",
    "    print(f\"the num is {step}\")"
   ]
  },
  {
   "cell_type": "code",
   "execution_count": null,
   "id": "a421009d",
   "metadata": {},
   "outputs": [],
   "source": [
    "product=[1,2,3,4,5,6]"
   ]
  },
  {
   "cell_type": "code",
   "execution_count": null,
   "id": "c83c6ace",
   "metadata": {},
   "outputs": [],
   "source": [
    "for num in product:\n",
    "    input(\"enter the product:\")"
   ]
  },
  {
   "cell_type": "code",
   "execution_count": null,
   "id": "d69017a4",
   "metadata": {},
   "outputs": [],
   "source": [
    "for num in product:\n",
    "    print(f\"the product is {num}\")"
   ]
  },
  {
   "cell_type": "code",
   "execution_count": 8,
   "id": "47e1c6b9",
   "metadata": {},
   "outputs": [],
   "source": [
    "lis=[1,2,3,4]"
   ]
  },
  {
   "cell_type": "code",
   "execution_count": 9,
   "id": "d5779d53",
   "metadata": {},
   "outputs": [
    {
     "name": "stdout",
     "output_type": "stream",
     "text": [
      "the product:1 lays\n",
      "the product:2jelly\n",
      "the product:3 juice\n",
      "the product:4 candy\n"
     ]
    }
   ],
   "source": [
    "for num in lis:\n",
    "    input(f\"the product:{num}\")"
   ]
  },
  {
   "cell_type": "code",
   "execution_count": 10,
   "id": "fb7322a2",
   "metadata": {},
   "outputs": [
    {
     "name": "stdout",
     "output_type": "stream",
     "text": [
      "enter the number of product purchase:4\n",
      "enter the product name:kinder joy\n",
      "enter the product name:licables\n",
      "enter the product name:candy\n",
      "enter the product name:kitkat\n"
     ]
    }
   ],
   "source": [
    "prod_name=[]\n",
    "total_item=int(input(\"enter the number of product purchase:\"))\n",
    "for item in range(0,total_item):\n",
    "    prod_name.append(input(\"enter the product name:\"))"
   ]
  },
  {
   "cell_type": "code",
   "execution_count": 11,
   "id": "625a619c",
   "metadata": {},
   "outputs": [
    {
     "data": {
      "text/plain": [
       "['kinder joy', 'licables', 'candy', 'kitkat']"
      ]
     },
     "execution_count": 11,
     "metadata": {},
     "output_type": "execute_result"
    }
   ],
   "source": [
    "prod_name"
   ]
  },
  {
   "cell_type": "markdown",
   "id": "ddb0a4c6",
   "metadata": {},
   "source": [
    "# WHILE LOOP"
   ]
  },
  {
   "cell_type": "code",
   "execution_count": null,
   "id": "293b9155",
   "metadata": {},
   "outputs": [],
   "source": [
    "while <condition>:\n",
    "    <statements>\n",
    "count"
   ]
  },
  {
   "cell_type": "code",
   "execution_count": null,
   "id": "5c99d165",
   "metadata": {},
   "outputs": [],
   "source": []
  }
 ],
 "metadata": {
  "kernelspec": {
   "display_name": "Python 3 (ipykernel)",
   "language": "python",
   "name": "python3"
  },
  "language_info": {
   "codemirror_mode": {
    "name": "ipython",
    "version": 3
   },
   "file_extension": ".py",
   "mimetype": "text/x-python",
   "name": "python",
   "nbconvert_exporter": "python",
   "pygments_lexer": "ipython3",
   "version": "3.9.17"
  }
 },
 "nbformat": 4,
 "nbformat_minor": 5
}
