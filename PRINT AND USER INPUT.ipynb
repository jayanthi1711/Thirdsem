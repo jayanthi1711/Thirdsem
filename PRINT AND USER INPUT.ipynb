{
 "cells": [
  {
   "cell_type": "markdown",
   "id": "2b709d82",
   "metadata": {},
   "source": [
    "# PRINT AND USER INPUT"
   ]
  },
  {
   "cell_type": "code",
   "execution_count": 1,
   "id": "c4081457",
   "metadata": {},
   "outputs": [],
   "source": [
    "b=5"
   ]
  },
  {
   "cell_type": "code",
   "execution_count": 2,
   "id": "a2329292",
   "metadata": {},
   "outputs": [
    {
     "data": {
      "text/plain": [
       "5"
      ]
     },
     "execution_count": 2,
     "metadata": {},
     "output_type": "execute_result"
    }
   ],
   "source": [
    "b"
   ]
  },
  {
   "cell_type": "code",
   "execution_count": 3,
   "id": "b96606a0",
   "metadata": {},
   "outputs": [
    {
     "name": "stdout",
     "output_type": "stream",
     "text": [
      "5\n"
     ]
    }
   ],
   "source": [
    "print(b)"
   ]
  },
  {
   "cell_type": "markdown",
   "id": "29ec0d19",
   "metadata": {},
   "source": [
    "# FORMAT PRINT"
   ]
  },
  {
   "cell_type": "code",
   "execution_count": 4,
   "id": "c3716fbf",
   "metadata": {},
   "outputs": [
    {
     "name": "stdout",
     "output_type": "stream",
     "text": [
      "the value of 'b'is 5\n"
     ]
    }
   ],
   "source": [
    "print(\"the value of 'b'is {}\".format(b))"
   ]
  },
  {
   "cell_type": "code",
   "execution_count": 5,
   "id": "94e88948",
   "metadata": {},
   "outputs": [],
   "source": [
    "NAME='jayanthi'"
   ]
  },
  {
   "cell_type": "code",
   "execution_count": 6,
   "id": "0e1f700d",
   "metadata": {},
   "outputs": [
    {
     "data": {
      "text/plain": [
       "'jayanthi'"
      ]
     },
     "execution_count": 6,
     "metadata": {},
     "output_type": "execute_result"
    }
   ],
   "source": [
    "NAME"
   ]
  },
  {
   "cell_type": "code",
   "execution_count": 7,
   "id": "e2ef1d76",
   "metadata": {},
   "outputs": [
    {
     "name": "stdout",
     "output_type": "stream",
     "text": [
      "my name is jayanthi\n"
     ]
    }
   ],
   "source": [
    "print(\"my name is {}\".format(NAME))"
   ]
  },
  {
   "cell_type": "code",
   "execution_count": 8,
   "id": "a4258318",
   "metadata": {},
   "outputs": [
    {
     "name": "stdout",
     "output_type": "stream",
     "text": [
      "my name is jayanthi\n"
     ]
    }
   ],
   "source": [
    "print(\"my name is {name}\".format(name='jayanthi'))"
   ]
  },
  {
   "cell_type": "code",
   "execution_count": 9,
   "id": "b208a9ba",
   "metadata": {},
   "outputs": [
    {
     "name": "stdout",
     "output_type": "stream",
     "text": [
      "my name is jayanthi,I am in PMU\n"
     ]
    }
   ],
   "source": [
    "print(\"my name is {name},I am in {college}\".format(name=\"jayanthi\",college=\"PMU\"))"
   ]
  },
  {
   "cell_type": "code",
   "execution_count": 10,
   "id": "dab850e1",
   "metadata": {},
   "outputs": [
    {
     "name": "stdout",
     "output_type": "stream",
     "text": [
      "I brought a car RENO TRIBER in chennai\n"
     ]
    }
   ],
   "source": [
    "print(\"I brought a car {car} in {place}\".format(car=\"RENO TRIBER\",place=\"chennai\"))"
   ]
  },
  {
   "cell_type": "markdown",
   "id": "171a223d",
   "metadata": {},
   "source": [
    "# F-PRINT"
   ]
  },
  {
   "cell_type": "code",
   "execution_count": 11,
   "id": "b8da11bc",
   "metadata": {},
   "outputs": [
    {
     "name": "stdout",
     "output_type": "stream",
     "text": [
      "I am jayanthi from CSE department\n"
     ]
    }
   ],
   "source": [
    "print(f\"I am {'jayanthi'} from {'CSE'} department\")"
   ]
  },
  {
   "cell_type": "markdown",
   "id": "acb61845",
   "metadata": {},
   "source": [
    "# TASK 1"
   ]
  },
  {
   "cell_type": "code",
   "execution_count": 12,
   "id": "459686ee",
   "metadata": {},
   "outputs": [
    {
     "name": "stdout",
     "output_type": "stream",
     "text": [
      "she sell \"sea\" shell in \"sea shore\"\n"
     ]
    }
   ],
   "source": [
    "print(f'she sell \"sea\" {\"shell\"} in \"sea shore\"')"
   ]
  },
  {
   "cell_type": "markdown",
   "id": "9f89a629",
   "metadata": {},
   "source": [
    "# USER INPUT"
   ]
  },
  {
   "cell_type": "code",
   "execution_count": 13,
   "id": "c8afbec7",
   "metadata": {},
   "outputs": [
    {
     "name": "stdout",
     "output_type": "stream",
     "text": [
      "41562vghcftcfgvcv2456\n"
     ]
    },
    {
     "data": {
      "text/plain": [
       "'41562vghcftcfgvcv2456'"
      ]
     },
     "execution_count": 13,
     "metadata": {},
     "output_type": "execute_result"
    }
   ],
   "source": [
    "input()"
   ]
  },
  {
   "cell_type": "code",
   "execution_count": 15,
   "id": "72b4ae51",
   "metadata": {},
   "outputs": [
    {
     "name": "stdout",
     "output_type": "stream",
     "text": [
      "45\n"
     ]
    }
   ],
   "source": [
    "var=input()"
   ]
  },
  {
   "cell_type": "code",
   "execution_count": 16,
   "id": "ae825dea",
   "metadata": {},
   "outputs": [
    {
     "data": {
      "text/plain": [
       "'45'"
      ]
     },
     "execution_count": 16,
     "metadata": {},
     "output_type": "execute_result"
    }
   ],
   "source": [
    "var"
   ]
  },
  {
   "cell_type": "code",
   "execution_count": 17,
   "id": "8e58207d",
   "metadata": {},
   "outputs": [
    {
     "name": "stdout",
     "output_type": "stream",
     "text": [
      "enter the namejayanthi\n"
     ]
    }
   ],
   "source": [
    "var=input(\"enter the name\")"
   ]
  },
  {
   "cell_type": "code",
   "execution_count": 18,
   "id": "4e0fa7bc",
   "metadata": {},
   "outputs": [
    {
     "data": {
      "text/plain": [
       "'jayanthi'"
      ]
     },
     "execution_count": 18,
     "metadata": {},
     "output_type": "execute_result"
    }
   ],
   "source": [
    "var"
   ]
  },
  {
   "cell_type": "code",
   "execution_count": 19,
   "id": "97258b4d",
   "metadata": {},
   "outputs": [
    {
     "data": {
      "text/plain": [
       "str"
      ]
     },
     "execution_count": 19,
     "metadata": {},
     "output_type": "execute_result"
    }
   ],
   "source": [
    "type(var)"
   ]
  },
  {
   "cell_type": "code",
   "execution_count": 20,
   "id": "56ec77ac",
   "metadata": {},
   "outputs": [
    {
     "name": "stdout",
     "output_type": "stream",
     "text": [
      "34\n"
     ]
    }
   ],
   "source": [
    "var=int(input())"
   ]
  },
  {
   "cell_type": "code",
   "execution_count": 21,
   "id": "5c101ad0",
   "metadata": {},
   "outputs": [
    {
     "data": {
      "text/plain": [
       "int"
      ]
     },
     "execution_count": 21,
     "metadata": {},
     "output_type": "execute_result"
    }
   ],
   "source": [
    "type(var)"
   ]
  },
  {
   "cell_type": "code",
   "execution_count": null,
   "id": "80d789de",
   "metadata": {},
   "outputs": [],
   "source": []
  }
 ],
 "metadata": {
  "kernelspec": {
   "display_name": "Python 3 (ipykernel)",
   "language": "python",
   "name": "python3"
  },
  "language_info": {
   "codemirror_mode": {
    "name": "ipython",
    "version": 3
   },
   "file_extension": ".py",
   "mimetype": "text/x-python",
   "name": "python",
   "nbconvert_exporter": "python",
   "pygments_lexer": "ipython3",
   "version": "3.9.17"
  }
 },
 "nbformat": 4,
 "nbformat_minor": 5
}
