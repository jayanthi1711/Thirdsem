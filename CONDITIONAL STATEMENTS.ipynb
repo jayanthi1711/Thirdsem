{
 "cells": [
  {
   "cell_type": "markdown",
   "id": "7a879514",
   "metadata": {},
   "source": [
    "# CONDITIONAL STATEMENTS\n"
   ]
  },
  {
   "cell_type": "code",
   "execution_count": 1,
   "id": "60868919",
   "metadata": {},
   "outputs": [],
   "source": [
    "a=10"
   ]
  },
  {
   "cell_type": "code",
   "execution_count": 2,
   "id": "40d16b30",
   "metadata": {
    "scrolled": true
   },
   "outputs": [
    {
     "name": "stdout",
     "output_type": "stream",
     "text": [
      "pass\n"
     ]
    }
   ],
   "source": [
    "if a==10:\n",
    "    print(\"pass\")\n",
    "else:\n",
    "    print(\"fail\")"
   ]
  },
  {
   "cell_type": "code",
   "execution_count": 3,
   "id": "14d81365",
   "metadata": {},
   "outputs": [],
   "source": [
    "h=18"
   ]
  },
  {
   "cell_type": "code",
   "execution_count": 4,
   "id": "5e610ac6",
   "metadata": {},
   "outputs": [
    {
     "name": "stdout",
     "output_type": "stream",
     "text": [
      "false\n"
     ]
    }
   ],
   "source": [
    "if h==19:\n",
    "    print(\"true\")\n",
    "else:\n",
    "    print(\"false\")"
   ]
  },
  {
   "cell_type": "code",
   "execution_count": 5,
   "id": "942ac05d",
   "metadata": {},
   "outputs": [
    {
     "name": "stdout",
     "output_type": "stream",
     "text": [
      "enter your age: 18\n",
      "you'r eligible for voting\n",
      "enter your name:harini\n",
      "enter your area:thanjavur\n"
     ]
    }
   ],
   "source": [
    "age=int(input(\"enter your age: \"))\n",
    "if age>=18:\n",
    "    print(\"you'r eligible for voting\")\n",
    "    Name=input(\"enter your name:\")\n",
    "    location=input(\"enter your area:\")\n",
    "else:\n",
    "    print(\"you'r not eligible for voting\")"
   ]
  },
  {
   "cell_type": "code",
   "execution_count": 20,
   "id": "460bf74b",
   "metadata": {},
   "outputs": [
    {
     "name": "stdout",
     "output_type": "stream",
     "text": [
      "enter the days:2\n",
      "amount is 10 rupees\n"
     ]
    }
   ],
   "source": [
    "days=int(input(\"enter the days:\"))\n",
    "if (days<=1):\n",
    "    print(\"amount is 5 rupees\")\n",
    "else:\n",
    "    print(\"amount is 10 rupees\")\n",
    "\n",
    "    \n",
    "    \n",
    "    "
   ]
  },
  {
   "cell_type": "code",
   "execution_count": null,
   "id": "8e7118e7",
   "metadata": {},
   "outputs": [],
   "source": []
  },
  {
   "cell_type": "code",
   "execution_count": null,
   "id": "6523d0f7",
   "metadata": {},
   "outputs": [],
   "source": []
  }
 ],
 "metadata": {
  "kernelspec": {
   "display_name": "Python 3 (ipykernel)",
   "language": "python",
   "name": "python3"
  },
  "language_info": {
   "codemirror_mode": {
    "name": "ipython",
    "version": 3
   },
   "file_extension": ".py",
   "mimetype": "text/x-python",
   "name": "python",
   "nbconvert_exporter": "python",
   "pygments_lexer": "ipython3",
   "version": "3.9.17"
  }
 },
 "nbformat": 4,
 "nbformat_minor": 5
}
