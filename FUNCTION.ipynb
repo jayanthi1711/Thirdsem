{
 "cells": [
  {
   "cell_type": "markdown",
   "id": "bfd18af6",
   "metadata": {},
   "source": [
    "# FUNCTION"
   ]
  },
  {
   "cell_type": "code",
   "execution_count": 2,
   "id": "c04e3352",
   "metadata": {},
   "outputs": [],
   "source": [
    "#def <function_name>(parameters):\n",
    "    #doc string\n",
    "    #<statement(s)"
   ]
  },
  {
   "cell_type": "code",
   "execution_count": 11,
   "id": "278822cf",
   "metadata": {},
   "outputs": [],
   "source": [
    "def Add(a,b,e,f):\n",
    "    c=a+b+e\n",
    "    return c"
   ]
  },
  {
   "cell_type": "code",
   "execution_count": 12,
   "id": "639ded2e",
   "metadata": {},
   "outputs": [
    {
     "data": {
      "text/plain": [
       "6"
      ]
     },
     "execution_count": 12,
     "metadata": {},
     "output_type": "execute_result"
    }
   ],
   "source": [
    "Add(1,2,3,4)"
   ]
  },
  {
   "cell_type": "code",
   "execution_count": 15,
   "id": "9660ce3b",
   "metadata": {},
   "outputs": [],
   "source": [
    "def Add():\n",
    "    print(\"enter the values for addition\")\n",
    "    a=int(input(\"enter number1:\"))\n",
    "    b=int(input(\"enter number2:\"))\n",
    "    c=a+b\n",
    "    return c"
   ]
  },
  {
   "cell_type": "code",
   "execution_count": 16,
   "id": "3a8edfed",
   "metadata": {},
   "outputs": [
    {
     "name": "stdout",
     "output_type": "stream",
     "text": [
      "enter the values for addition\n",
      "enter number1:4\n",
      "enter number2:7\n"
     ]
    },
    {
     "data": {
      "text/plain": [
       "11"
      ]
     },
     "execution_count": 16,
     "metadata": {},
     "output_type": "execute_result"
    }
   ],
   "source": [
    "Add()"
   ]
  },
  {
   "cell_type": "code",
   "execution_count": 17,
   "id": "db4965df",
   "metadata": {},
   "outputs": [],
   "source": [
    "def bday():\n",
    "    print(\"enter the event in bday celebration\")\n",
    "    a=str(input(\"enter the 1st event:\"))\n",
    "    b=str(input(\"enter the 2nd event:\"))\n",
    "    "
   ]
  },
  {
   "cell_type": "code",
   "execution_count": 18,
   "id": "f8f73de8",
   "metadata": {},
   "outputs": [
    {
     "name": "stdout",
     "output_type": "stream",
     "text": [
      "enter the event in bday celebration\n",
      "enter the 1st event:cake cutting\n",
      "enter the 2nd event:serving food\n"
     ]
    }
   ],
   "source": [
    "bday()"
   ]
  },
  {
   "cell_type": "code",
   "execution_count": 26,
   "id": "f954e6f1",
   "metadata": {},
   "outputs": [],
   "source": [
    "def eligibility(age):\n",
    "    if age>=19:\n",
    "            print(\"you'r eligible for voting\")\n",
    "    else:\n",
    "            print(\"you'r not eligible for voting\")\n",
    "    \n",
    "    \n",
    "    "
   ]
  },
  {
   "cell_type": "code",
   "execution_count": 27,
   "id": "6ffc0f4c",
   "metadata": {},
   "outputs": [
    {
     "name": "stdout",
     "output_type": "stream",
     "text": [
      "you'r eligible for voting\n"
     ]
    }
   ],
   "source": [
    "eligibility(19)"
   ]
  },
  {
   "cell_type": "code",
   "execution_count": null,
   "id": "ba26af4b",
   "metadata": {},
   "outputs": [],
   "source": []
  }
 ],
 "metadata": {
  "kernelspec": {
   "display_name": "Python 3 (ipykernel)",
   "language": "python",
   "name": "python3"
  },
  "language_info": {
   "codemirror_mode": {
    "name": "ipython",
    "version": 3
   },
   "file_extension": ".py",
   "mimetype": "text/x-python",
   "name": "python",
   "nbconvert_exporter": "python",
   "pygments_lexer": "ipython3",
   "version": "3.9.17"
  }
 },
 "nbformat": 4,
 "nbformat_minor": 5
}
